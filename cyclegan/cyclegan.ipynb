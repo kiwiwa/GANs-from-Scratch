{
  "nbformat": 4,
  "nbformat_minor": 0,
  "metadata": {
    "colab": {
      "name": "cyclegan.ipynb",
      "version": "0.3.2",
      "provenance": [],
      "include_colab_link": true
    },
    "kernelspec": {
      "name": "python3",
      "display_name": "Python 3"
    }
  },
  "cells": [
    {
      "cell_type": "markdown",
      "metadata": {
        "id": "view-in-github",
        "colab_type": "text"
      },
      "source": [
        "<a href=\"https://colab.research.google.com/github/kiwiwa/GANs-from-scratch/blob/master/cyclegan.ipynb\" target=\"_parent\"><img src=\"https://colab.research.google.com/assets/colab-badge.svg\" alt=\"Open In Colab\"/></a>"
      ]
    },
    {
      "cell_type": "code",
      "metadata": {
        "id": "8TfuN-3v21sL",
        "colab_type": "code",
        "colab": {}
      },
      "source": [
        "%%capture\n",
        "%%shell\n",
        "FILE=horse2zebra\n",
        "\n",
        "if [[ $FILE != \"ae_photos\" && $FILE != \"apple2orange\" && $FILE != \"summer2winter_yosemite\" &&  $FILE != \"horse2zebra\" && $FILE != \"monet2photo\" && $FILE != \"cezanne2photo\" && $FILE != \"ukiyoe2photo\" && $FILE != \"vangogh2photo\" && $FILE != \"maps\" && $FILE != \"cityscapes\" && $FILE != \"facades\" && $FILE != \"iphone2dslr_flower\" && $FILE != \"ae_photos\" ]]; then\n",
        "    echo \"Available datasets are: apple2orange, summer2winter_yosemite, horse2zebra, monet2photo, cezanne2photo, ukiyoe2photo, vangogh2photo, maps, cityscapes, facades, iphone2dslr_flower, ae_photos\"\n",
        "    exit 1\n",
        "fi\n",
        "\n",
        "URL=https://people.eecs.berkeley.edu/~taesung_park/CycleGAN/datasets/$FILE.zip\n",
        "ZIP_FILE=./datasets/$FILE.zip\n",
        "TARGET_DIR=./datasets/$FILE/\n",
        "mkdir ./datasets/\n",
        "wget -N $URL -O $ZIP_FILE\n",
        "mkdir $TARGET_DIR\n",
        "unzip $ZIP_FILE -d ./datasets/\n",
        "rm $ZIP_FILE"
      ],
      "execution_count": 0,
      "outputs": []
    },
    {
      "cell_type": "code",
      "metadata": {
        "id": "aAu_qett4H4v",
        "colab_type": "code",
        "colab": {}
      },
      "source": [
        "import torch.nn as nn\n",
        "import torch.nn.functional as F\n",
        "import torch\n",
        "from torchsummary import summary"
      ],
      "execution_count": 0,
      "outputs": []
    },
    {
      "cell_type": "code",
      "metadata": {
        "id": "ufcX0A2Y4J_t",
        "colab_type": "code",
        "colab": {}
      },
      "source": [
        "img_size = 256\n",
        "channels = 3\n",
        "ngf = 32\n",
        "ndf = 64"
      ],
      "execution_count": 0,
      "outputs": []
    },
    {
      "cell_type": "code",
      "metadata": {
        "id": "hPy-hIOP43Ux",
        "colab_type": "code",
        "colab": {}
      },
      "source": [
        "class ResidualBlock(nn.Module):\n",
        "    def __init__(self, c):\n",
        "        super(ResidualBlock, self).__init__()\n",
        "        \n",
        "        block = [nn.ReflectionPad2d(1),\n",
        "                 nn.Conv2d(c, c, 3, 1, 0),\n",
        "                 nn.InstanceNorm2d(c),\n",
        "                 nn.ReLU(),\n",
        "                 nn.ReflectionPad2d(1),\n",
        "                 nn.Conv2d(c, c, 3, 1, 0),\n",
        "                 nn.InstanceNorm2d(c)]\n",
        "        \n",
        "        self.block = nn.Sequential(*block)\n",
        "        \n",
        "    \n",
        "    def forward(self, x):\n",
        "        return self.block(x) + x"
      ],
      "execution_count": 0,
      "outputs": []
    },
    {
      "cell_type": "code",
      "metadata": {
        "id": "7SijtRQW8aGv",
        "colab_type": "code",
        "colab": {}
      },
      "source": [
        "class Generator(nn.Module):\n",
        "    def __init__(self):\n",
        "        super(Generator, self).__init__()\n",
        "        \n",
        "        # Encoding\n",
        "        model = []\n",
        "        model += [nn.ReflectionPad2d(4),\n",
        "                  nn.Conv2d(3, ngf, 9, 1, 0),\n",
        "                  nn.InstanceNorm2d(ngf),\n",
        "                  nn.ReLU()]\n",
        "        model += [nn.Conv2d(ngf, ngf*2, 3, 2, 1),\n",
        "                  nn.InstanceNorm2d(ngf*2),\n",
        "                  nn.ReLU()]\n",
        "        model += [nn.Conv2d(ngf*2, ngf*4, 3, 2, 1),\n",
        "                  nn.InstanceNorm2d(ngf*4),\n",
        "                  nn.ReLU()]\n",
        "        \n",
        "        # Transformation\n",
        "        for i in range(6):\n",
        "            model += [ResidualBlock(ngf*4)]\n",
        "        \n",
        "        # Decoding\n",
        "        model += [nn.ConvTranspose2d(ngf*4, ngf*2, 3, 2, 1, output_padding=1),\n",
        "                  nn.InstanceNorm2d(ngf*2),\n",
        "                  nn.ReLU()]\n",
        "        model += [nn.ConvTranspose2d(ngf*2, ngf, 3, 2, 1, output_padding=1),\n",
        "                  nn.InstanceNorm2d(ngf),\n",
        "                  nn.ReLU()]\n",
        "        model += [nn.ReflectionPad2d(4),\n",
        "                  nn.Conv2d(ngf, 3, 9, 1, 0),\n",
        "                  nn.Tanh()]\n",
        "        \n",
        "        self.model = nn.Sequential(*model)\n",
        "\n",
        "    def forward(self, x):\n",
        "        return self.model(x)"
      ],
      "execution_count": 0,
      "outputs": []
    },
    {
      "cell_type": "code",
      "metadata": {
        "id": "ScqGWgOGTCnx",
        "colab_type": "code",
        "colab": {}
      },
      "source": [
        "class Discriminator(nn.Module):\n",
        "    def __init__(self):\n",
        "        super(Discriminator, self).__init__()\n",
        "        \n",
        "        model = []\n",
        "        model += [nn.Conv2d(3, ndf, 4, 2, 1),\n",
        "                  nn.LeakyReLU(0.2)]\n",
        "        \n",
        "        in_channels = ndf\n",
        "        out_channels = ndf*2\n",
        "        for i in range(3):\n",
        "            model += [nn.Conv2d(in_channels, out_channels, 4, 2, 1),\n",
        "                      nn.InstanceNorm2d(out_channels),\n",
        "                      nn.LeakyReLU(0.2)]\n",
        "            in_channels = out_channels\n",
        "            out_channels = out_channels * 2\n",
        "        \n",
        "        model += [nn.Conv2d(ndf*8, 1, 4, 2, 1)]\n",
        "        \n",
        "        self.model = nn.Sequential(*model)\n",
        "        \n",
        "    def forward(self, x):\n",
        "        x = self.model(x)\n",
        "        x = F.avg_pool2d(x, x.size()[2:]).view(x.size()[0], -1)\n",
        "        return x"
      ],
      "execution_count": 0,
      "outputs": []
    }
  ]
}