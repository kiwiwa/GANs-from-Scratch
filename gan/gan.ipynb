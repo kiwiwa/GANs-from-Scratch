{
  "nbformat": 4,
  "nbformat_minor": 0,
  "metadata": {
    "colab": {
      "name": "mnist_nn.ipynb",
      "version": "0.3.2",
      "provenance": []
    },
    "language_info": {
      "codemirror_mode": {
        "name": "ipython",
        "version": 3
      },
      "file_extension": ".py",
      "mimetype": "text/x-python",
      "name": "python",
      "nbconvert_exporter": "python",
      "pygments_lexer": "ipython3",
      "version": "3.7.3"
    },
    "kernelspec": {
      "name": "python3",
      "display_name": "Python 3"
    },
    "accelerator": "GPU"
  },
  "cells": [
    {
      "cell_type": "code",
      "metadata": {
        "id": "pm7rdNprNx4x",
        "colab_type": "code",
        "colab": {}
      },
      "source": [
        "# Heavily inspired by: https://github.com/pytorch/examples/blob/master/mnist/main.py\n",
        "import os\n",
        "import torch\n",
        "from torch import nn\n",
        "from torch.autograd import Variable\n",
        "import torchvision.datasets as dset\n",
        "import torchvision.transforms as transforms\n",
        "import matplotlib.pyplot as plt"
      ],
      "execution_count": 0,
      "outputs": []
    },
    {
      "cell_type": "code",
      "metadata": {
        "id": "_wLqkYB2Nx48",
        "colab_type": "code",
        "colab": {}
      },
      "source": [
        "class NN(nn.Module):\n",
        "    def __init__(self):\n",
        "        super(NN, self).__init__()\n",
        "        \n",
        "        self.model = nn.Sequential(\n",
        "            nn.Linear(28*28, 512),\n",
        "            nn.LeakyReLU(),\n",
        "            nn.Linear(512, 256),\n",
        "            nn.LeakyReLU(),\n",
        "            nn.Linear(256, 10),\n",
        "            nn.Sigmoid(),\n",
        "        )\n",
        "        \n",
        "    def forward(self, img):\n",
        "        img_flat = img.view(img.size(0), -1)\n",
        "        output = self.model(img_flat)\n",
        "        return output"
      ],
      "execution_count": 0,
      "outputs": []
    },
    {
      "cell_type": "code",
      "metadata": {
        "id": "KoS32S4pNx5C",
        "colab_type": "code",
        "colab": {}
      },
      "source": [
        "def train(model, device, train_loader, optimizer, criterion, epoch):\n",
        "    model.train()\n",
        "    train_loss = 0\n",
        "    for batch_idx, (data, target) in enumerate(train_loader):\n",
        "        data, target = data.to(device), target.to(device)\n",
        "        optimizer.zero_grad()\n",
        "        output = model(data)\n",
        "        loss = criterion(output, target)\n",
        "        train_loss += loss.item()\n",
        "        loss.backward()\n",
        "        optimizer.step()\n",
        "        \n",
        "    train_loss /= len(train_loader.dataset)\n",
        "    print('Train Epoch: {}, Average Loss: {:.6f}'.format(\n",
        "        epoch, train_loss))"
      ],
      "execution_count": 0,
      "outputs": []
    },
    {
      "cell_type": "code",
      "metadata": {
        "id": "eJ8bkx-YNx5H",
        "colab_type": "code",
        "colab": {}
      },
      "source": [
        "def test(model, device, test_loader, criterion):\n",
        "    model.eval()\n",
        "    test_loss = 0\n",
        "    correct = 0\n",
        "    with torch.no_grad():\n",
        "        for data, target in test_loader:\n",
        "            data, target = data.to(device), target.to(device)\n",
        "            output = model(data)\n",
        "            test_loss += criterion(output, target).item() # sum up batch loss\n",
        "            pred = output.argmax(dim=1, keepdim=True) # get the index of the max log-probability\n",
        "            correct += pred.eq(target.view_as(pred)).sum().item()\n",
        "\n",
        "    test_loss /= len(test_loader.dataset)\n",
        "\n",
        "    print('Test set: Average loss: {:.4f}, Accuracy: {}/{} ({:.0f}%)'.format(\n",
        "        test_loss, correct, len(test_loader.dataset),\n",
        "        100. * correct / len(test_loader.dataset)))"
      ],
      "execution_count": 0,
      "outputs": []
    },
    {
      "cell_type": "code",
      "metadata": {
        "id": "00co1wR-Nx5M",
        "colab_type": "code",
        "outputId": "7b237695-7f91-410f-f4ef-a14e53807e93",
        "colab": {
          "base_uri": "https://localhost:8080/",
          "height": 642
        }
      },
      "source": [
        "def main():\n",
        "    # Load data\n",
        "    root = './data'\n",
        "    if not os.path.exists(root):\n",
        "        os.mkdir(root)\n",
        "\n",
        "    # normalizes values to interval [-1, 1]\n",
        "    trans = transforms.Compose([transforms.ToTensor(), transforms.Normalize((0.5,), (0.5,))])\n",
        "    train_set = dset.MNIST(root=root, train=True, transform=trans, download=True)\n",
        "    test_set = dset.MNIST(root=root, train=False, transform=trans, download=True)\n",
        "\n",
        "    batch_size = 64\n",
        "    train_loader = torch.utils.data.DataLoader(\n",
        "                     dataset=train_set,\n",
        "                     batch_size=batch_size,\n",
        "                     shuffle=True)\n",
        "    test_loader = torch.utils.data.DataLoader(\n",
        "                    dataset=test_set,\n",
        "                    batch_size=batch_size,\n",
        "                    shuffle=False)\n",
        "    \n",
        "    # Cuda stuff\n",
        "    use_cuda = torch.cuda.is_available()\n",
        "    device = torch.device(\"cuda\" if use_cuda else \"cpu\")\n",
        "    print(\"Device is \" + str(device) + \".\")\n",
        "    \n",
        "    # Training\n",
        "    epochs = 10\n",
        "    model = NN().to(device)\n",
        "    criterion = torch.nn.CrossEntropyLoss(reduction='sum')\n",
        "    optimizer = torch.optim.Adam(model.parameters())\n",
        "    \n",
        "    for epoch in range(1, epochs + 1):\n",
        "        train(model, device, train_loader, optimizer, criterion, epoch)\n",
        "        test(model, device, test_loader, criterion)\n",
        "    \n",
        "if __name__ == '__main__':\n",
        "    main()"
      ],
      "execution_count": 5,
      "outputs": [
        {
          "output_type": "stream",
          "text": [
            "\r0it [00:00, ?it/s]"
          ],
          "name": "stderr"
        },
        {
          "output_type": "stream",
          "text": [
            "Downloading http://yann.lecun.com/exdb/mnist/train-images-idx3-ubyte.gz to ./data/MNIST/raw/train-images-idx3-ubyte.gz\n"
          ],
          "name": "stdout"
        },
        {
          "output_type": "stream",
          "text": [
            "9920512it [00:03, 3116342.13it/s]                             \n"
          ],
          "name": "stderr"
        },
        {
          "output_type": "stream",
          "text": [
            "Extracting ./data/MNIST/raw/train-images-idx3-ubyte.gz\n"
          ],
          "name": "stdout"
        },
        {
          "output_type": "stream",
          "text": [
            "\r0it [00:00, ?it/s]"
          ],
          "name": "stderr"
        },
        {
          "output_type": "stream",
          "text": [
            "Downloading http://yann.lecun.com/exdb/mnist/train-labels-idx1-ubyte.gz to ./data/MNIST/raw/train-labels-idx1-ubyte.gz\n"
          ],
          "name": "stdout"
        },
        {
          "output_type": "stream",
          "text": [
            "32768it [00:00, 48831.17it/s]                           \n",
            "0it [00:00, ?it/s]"
          ],
          "name": "stderr"
        },
        {
          "output_type": "stream",
          "text": [
            "Extracting ./data/MNIST/raw/train-labels-idx1-ubyte.gz\n",
            "Downloading http://yann.lecun.com/exdb/mnist/t10k-images-idx3-ubyte.gz to ./data/MNIST/raw/t10k-images-idx3-ubyte.gz\n"
          ],
          "name": "stdout"
        },
        {
          "output_type": "stream",
          "text": [
            "1654784it [00:02, 736011.49it/s]                             \n",
            "0it [00:00, ?it/s]"
          ],
          "name": "stderr"
        },
        {
          "output_type": "stream",
          "text": [
            "Extracting ./data/MNIST/raw/t10k-images-idx3-ubyte.gz\n",
            "Downloading http://yann.lecun.com/exdb/mnist/t10k-labels-idx1-ubyte.gz to ./data/MNIST/raw/t10k-labels-idx1-ubyte.gz\n"
          ],
          "name": "stdout"
        },
        {
          "output_type": "stream",
          "text": [
            "8192it [00:00, 18403.26it/s]            \n"
          ],
          "name": "stderr"
        },
        {
          "output_type": "stream",
          "text": [
            "Extracting ./data/MNIST/raw/t10k-labels-idx1-ubyte.gz\n",
            "Processing...\n",
            "Done!\n",
            "Device is cuda.\n",
            "Train Epoch: 1, Average Loss: 1.566326\n",
            "Test set: Average loss: 1.5192, Accuracy: 9299/10000 (93%)\n",
            "Train Epoch: 2, Average Loss: 1.508968\n",
            "Test set: Average loss: 1.5002, Accuracy: 9537/10000 (95%)\n",
            "Train Epoch: 3, Average Loss: 1.498298\n",
            "Test set: Average loss: 1.4950, Accuracy: 9581/10000 (96%)\n",
            "Train Epoch: 4, Average Loss: 1.492261\n",
            "Test set: Average loss: 1.4880, Accuracy: 9660/10000 (97%)\n",
            "Train Epoch: 5, Average Loss: 1.489244\n",
            "Test set: Average loss: 1.4902, Accuracy: 9642/10000 (96%)\n",
            "Train Epoch: 6, Average Loss: 1.486266\n",
            "Test set: Average loss: 1.4872, Accuracy: 9695/10000 (97%)\n",
            "Train Epoch: 7, Average Loss: 1.483044\n",
            "Test set: Average loss: 1.4908, Accuracy: 9601/10000 (96%)\n",
            "Train Epoch: 8, Average Loss: 1.483542\n",
            "Test set: Average loss: 1.4870, Accuracy: 9686/10000 (97%)\n",
            "Train Epoch: 9, Average Loss: 1.481793\n",
            "Test set: Average loss: 1.4857, Accuracy: 9698/10000 (97%)\n",
            "Train Epoch: 10, Average Loss: 1.480444\n",
            "Test set: Average loss: 1.4877, Accuracy: 9672/10000 (97%)\n"
          ],
          "name": "stdout"
        }
      ]
    }
  ]
}