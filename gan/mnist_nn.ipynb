{
  "nbformat": 4,
  "nbformat_minor": 0,
  "metadata": {
    "colab": {
      "name": "mnist_nn.ipynb",
      "version": "0.3.2",
      "provenance": []
    },
    "language_info": {
      "codemirror_mode": {
        "name": "ipython",
        "version": 3
      },
      "file_extension": ".py",
      "mimetype": "text/x-python",
      "name": "python",
      "nbconvert_exporter": "python",
      "pygments_lexer": "ipython3",
      "version": "3.7.3"
    },
    "kernelspec": {
      "display_name": "Python 3",
      "language": "python",
      "name": "python3"
    }
  },
  "cells": [
    {
      "cell_type": "code",
      "metadata": {
        "id": "pm7rdNprNx4x",
        "colab_type": "code",
        "colab": {}
      },
      "source": [
        "# Heavily inspired by: https://github.com/pytorch/examples/blob/master/mnist/main.py\n",
        "import os\n",
        "import torch\n",
        "from torch import nn\n",
        "from torch.autograd import Variable\n",
        "import torchvision.datasets as dset\n",
        "import torchvision.transforms as transforms\n",
        "import matplotlib.pyplot as plt"
      ],
      "execution_count": 0,
      "outputs": []
    },
    {
      "cell_type": "code",
      "metadata": {
        "id": "_wLqkYB2Nx48",
        "colab_type": "code",
        "colab": {}
      },
      "source": [
        "class NN(nn.Module):\n",
        "    def __init__(self):\n",
        "        super(NN, self).__init__()\n",
        "        \n",
        "        self.model = nn.Sequential(\n",
        "            nn.Linear(28*28, 512),\n",
        "            nn.LeakyReLU(),\n",
        "            nn.Linear(512, 256),\n",
        "            nn.LeakyReLU(),\n",
        "            nn.Linear(256, 10),\n",
        "            nn.Sigmoid(),\n",
        "        )\n",
        "        \n",
        "    def forward(self, img):\n",
        "        img_flat = img.view(img.size(0), -1)\n",
        "        output = self.model(img_flat)\n",
        "        return output"
      ],
      "execution_count": 0,
      "outputs": []
    },
    {
      "cell_type": "code",
      "metadata": {
        "id": "KoS32S4pNx5C",
        "colab_type": "code",
        "colab": {}
      },
      "source": [
        "def train(model, device, train_loader, optimizer, criterion, epoch):\n",
        "    model.train()\n",
        "    train_loss = 0\n",
        "    for batch_idx, (data, target) in enumerate(train_loader):\n",
        "        data, target = data.to(device), target.to(device)\n",
        "        optimizer.zero_grad()\n",
        "        output = model(data)\n",
        "        loss = criterion(output, target)\n",
        "        train_loss += loss.item()\n",
        "        loss.backward()\n",
        "        optimizer.step()\n",
        "        \n",
        "    train_loss /= len(train_loader.dataset)\n",
        "    print('Train Epoch: {}, Average Loss: {:.6f}'.format(\n",
        "        epoch, train_loss))"
      ],
      "execution_count": 0,
      "outputs": []
    },
    {
      "cell_type": "code",
      "metadata": {
        "id": "eJ8bkx-YNx5H",
        "colab_type": "code",
        "colab": {}
      },
      "source": [
        "def test(model, device, test_loader, criterion):\n",
        "    model.eval()\n",
        "    test_loss = 0\n",
        "    correct = 0\n",
        "    with torch.no_grad():\n",
        "        for data, target in test_loader:\n",
        "            data, target = data.to(device), target.to(device)\n",
        "            output = model(data)\n",
        "            test_loss += criterion(output, target).item() # sum up batch loss\n",
        "            pred = output.argmax(dim=1, keepdim=True) # get the index of the max log-probability\n",
        "            correct += pred.eq(target.view_as(pred)).sum().item()\n",
        "\n",
        "    test_loss /= len(test_loader.dataset)\n",
        "\n",
        "    print('Test set: Average loss: {:.4f}, Accuracy: {}/{} ({:.0f}%)'.format(\n",
        "        test_loss, correct, len(test_loader.dataset),\n",
        "        100. * correct / len(test_loader.dataset)))"
      ],
      "execution_count": 0,
      "outputs": []
    },
    {
      "cell_type": "code",
      "metadata": {
        "id": "00co1wR-Nx5M",
        "colab_type": "code",
        "colab": {},
        "outputId": "b8f105a9-358c-4f72-ff26-60097aea429a"
      },
      "source": [
        "def main():\n",
        "    # Load data\n",
        "    root = './data'\n",
        "    if not os.path.exists(root):\n",
        "        os.mkdir(root)\n",
        "\n",
        "    # normalizes values to interval [-1, 1]\n",
        "    trans = transforms.Compose([transforms.ToTensor(), transforms.Normalize((0.5,), (0.5,))])\n",
        "    train_set = dset.MNIST(root=root, train=True, transform=trans, download=True)\n",
        "    test_set = dset.MNIST(root=root, train=False, transform=trans, download=True)\n",
        "\n",
        "    batch_size = 64\n",
        "    train_loader = torch.utils.data.DataLoader(\n",
        "                     dataset=train_set,\n",
        "                     batch_size=batch_size,\n",
        "                     shuffle=True)\n",
        "    test_loader = torch.utils.data.DataLoader(\n",
        "                    dataset=test_set,\n",
        "                    batch_size=batch_size,\n",
        "                    shuffle=False)\n",
        "    \n",
        "    # Cuda stuff\n",
        "    use_cuda = torch.cuda.is_available()\n",
        "    device = torch.device(\"cuda\" if use_cuda else \"cpu\")\n",
        "    print(\"Device is \" + str(device) + \".\")\n",
        "    \n",
        "    # Training\n",
        "    epochs = 10\n",
        "    model = NN().to(device)\n",
        "    criterion = torch.nn.CrossEntropyLoss(reduction='sum')\n",
        "    optimizer = torch.optim.Adam(model.parameters())\n",
        "    \n",
        "    for epoch in range(1, epochs + 1):\n",
        "        train(model, device, train_loader, optimizer, criterion, epoch)\n",
        "        test(model, device, test_loader, criterion)\n",
        "    \n",
        "if __name__ == '__main__':\n",
        "    main()"
      ],
      "execution_count": 0,
      "outputs": [
        {
          "output_type": "stream",
          "text": [
            "Device is cuda.\n",
            "Train Epoch: 1, Average Loss: 1.568872\n",
            "Test set: Average loss: 1.5123, Accuracy: 9403/10000 (94%)\n",
            "Train Epoch: 2, Average Loss: 1.509146\n",
            "Test set: Average loss: 1.5087, Accuracy: 9436/10000 (94%)\n",
            "Train Epoch: 3, Average Loss: 1.498728\n",
            "Test set: Average loss: 1.4958, Accuracy: 9604/10000 (96%)\n",
            "Train Epoch: 4, Average Loss: 1.492732\n",
            "Test set: Average loss: 1.4922, Accuracy: 9622/10000 (96%)\n",
            "Train Epoch: 5, Average Loss: 1.489207\n",
            "Test set: Average loss: 1.4888, Accuracy: 9659/10000 (97%)\n",
            "Train Epoch: 6, Average Loss: 1.485221\n",
            "Test set: Average loss: 1.4897, Accuracy: 9656/10000 (97%)\n",
            "Train Epoch: 7, Average Loss: 1.484429\n",
            "Test set: Average loss: 1.4960, Accuracy: 9566/10000 (96%)\n",
            "Train Epoch: 8, Average Loss: 1.481736\n",
            "Test set: Average loss: 1.4868, Accuracy: 9697/10000 (97%)\n",
            "Train Epoch: 9, Average Loss: 1.481156\n",
            "Test set: Average loss: 1.4853, Accuracy: 9698/10000 (97%)\n",
            "Train Epoch: 10, Average Loss: 1.479651\n",
            "Test set: Average loss: 1.4827, Accuracy: 9730/10000 (97%)\n"
          ],
          "name": "stdout"
        }
      ]
    }
  ]
}