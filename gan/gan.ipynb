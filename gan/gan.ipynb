{
  "nbformat": 4,
  "nbformat_minor": 0,
  "metadata": {
    "colab": {
      "name": "mnist_nn.ipynb",
      "version": "0.3.2",
      "provenance": []
    },
    "language_info": {
      "codemirror_mode": {
        "name": "ipython",
        "version": 3
      },
      "file_extension": ".py",
      "mimetype": "text/x-python",
      "name": "python",
      "nbconvert_exporter": "python",
      "pygments_lexer": "ipython3",
      "version": "3.7.3"
    },
    "kernelspec": {
      "name": "python3",
      "display_name": "Python 3"
    },
    "accelerator": "GPU"
  },
  "cells": [
    {
      "cell_type": "code",
      "metadata": {
        "id": "pjAKLyPbAa08",
        "colab_type": "code",
        "colab": {
          "base_uri": "https://localhost:8080/",
          "height": 280
        },
        "outputId": "056c357c-1f33-4976-9e5c-777b4e2aa3c9"
      },
      "source": [
        "!pip install tensorboardX\n",
        "!pip install -q tf-nightly-2.0-preview\n",
        "%load_ext tensorboard"
      ],
      "execution_count": 0,
      "outputs": [
        {
          "output_type": "stream",
          "text": [
            "Collecting tensorboardX\n",
            "\u001b[?25l  Downloading https://files.pythonhosted.org/packages/5c/76/89dd44458eb976347e5a6e75eb79fecf8facd46c1ce259bad54e0044ea35/tensorboardX-1.6-py2.py3-none-any.whl (129kB)\n",
            "\u001b[K     |████████████████████████████████| 133kB 41.8MB/s \n",
            "\u001b[?25hRequirement already satisfied: six in /usr/local/lib/python3.6/dist-packages (from tensorboardX) (1.12.0)\n",
            "Requirement already satisfied: protobuf>=3.2.0 in /usr/local/lib/python3.6/dist-packages (from tensorboardX) (3.7.1)\n",
            "Requirement already satisfied: numpy in /usr/local/lib/python3.6/dist-packages (from tensorboardX) (1.16.3)\n",
            "Requirement already satisfied: setuptools in /usr/local/lib/python3.6/dist-packages (from protobuf>=3.2.0->tensorboardX) (41.0.1)\n",
            "Installing collected packages: tensorboardX\n",
            "Successfully installed tensorboardX-1.6\n",
            "\u001b[K     |████████████████████████████████| 87.5MB 507kB/s \n",
            "\u001b[K     |████████████████████████████████| 430kB 50.4MB/s \n",
            "\u001b[K     |████████████████████████████████| 61kB 26.6MB/s \n",
            "\u001b[K     |████████████████████████████████| 3.1MB 49.1MB/s \n"
          ],
          "name": "stdout"
        }
      ]
    },
    {
      "cell_type": "code",
      "metadata": {
        "id": "pm7rdNprNx4x",
        "colab_type": "code",
        "colab": {}
      },
      "source": [
        "# Heavily inspired by: https://github.com/pytorch/examples/blob/master/mnist/main.py\n",
        "# And https://medium.com/ai-society/gans-from-scratch-1-a-deep-introduction-with-code-in-pytorch-and-tensorflow-cb03cdcdba0f\n",
        "import os\n",
        "import torch\n",
        "from torch import nn\n",
        "from torch.autograd import Variable\n",
        "import torchvision.datasets as dset\n",
        "import torchvision.transforms as transforms\n",
        "from tensorboardX import SummaryWriter\n",
        "from torchvision.utils import make_grid"
      ],
      "execution_count": 0,
      "outputs": []
    },
    {
      "cell_type": "code",
      "metadata": {
        "id": "kztKlb-VAVRE",
        "colab_type": "code",
        "colab": {}
      },
      "source": [
        "# Cuda stuff\n",
        "use_cuda = torch.cuda.is_available()\n",
        "device = torch.device(\"cuda\" if use_cuda else \"cpu\")\n",
        "print(\"Device is \" + str(device) + \".\")"
      ],
      "execution_count": 0,
      "outputs": []
    },
    {
      "cell_type": "code",
      "metadata": {
        "id": "_wLqkYB2Nx48",
        "colab_type": "code",
        "colab": {}
      },
      "source": [
        "class Discriminator(nn.Module):\n",
        "    def __init__(self):\n",
        "        super(Discriminator, self).__init__()\n",
        "        \n",
        "        self.hidden1 = nn.Sequential(\n",
        "            nn.Linear(28*28, 1024),\n",
        "            nn.LeakyReLu(0.2),\n",
        "            nn.Dropout(0.3),\n",
        "        )\n",
        "        \n",
        "        self.hidden2 = nn.Sequential(\n",
        "            nn.Linear(1024, 512),\n",
        "            nn.LeakyReLu(0.2),\n",
        "            nn.Dropout(0.3),       \n",
        "        )\n",
        "        \n",
        "        self.hidden3 = nn.Sequential(\n",
        "            nn.Linear(512, 256),\n",
        "            nn.LeakyReLu(0.2),\n",
        "            nn.Dropout(0.3),     \n",
        "        )\n",
        "        \n",
        "        self.out = nn.Sequential(\n",
        "            nn.Linear(256, 1),\n",
        "            nn.Sigmoid(),\n",
        "        )\n",
        "        \n",
        "    def forward(self, img):\n",
        "        img_flat = img.view(img.size(0), -1)\n",
        "        x = self.hidden1(img_flat)\n",
        "        x = self.hidden2(x)\n",
        "        x = self.hidden3(x)\n",
        "        out= self.out(x)\n",
        "        return out"
      ],
      "execution_count": 0,
      "outputs": []
    },
    {
      "cell_type": "code",
      "metadata": {
        "id": "mYDWcXUNcPXt",
        "colab_type": "code",
        "colab": {}
      },
      "source": [
        "class Generator(nn.Module):\n",
        "    def __init__(self):\n",
        "        super(Generator, self).__init__()\n",
        "        \n",
        "        self.hidden1 = nn.Sequential(\n",
        "            nn.Linear(100, 256),\n",
        "            nn.LeakyReLu(0.2),\n",
        "            nn.Dropout(0.3),\n",
        "        )\n",
        "        \n",
        "        self.hidden2 = nn.Sequential(\n",
        "            nn.Linear(256, 512),\n",
        "            nn.LeakyReLu(0.2),\n",
        "            nn.Dropout(0.3),\n",
        "        )\n",
        "        \n",
        "        self.hidden3 = nn.Sequential(\n",
        "            nn.Linear(512, 1024),\n",
        "            nn.LeakyReLu(0.2),\n",
        "            nn.Dropout(0.3),\n",
        "        )\n",
        "        \n",
        "        self.out = nn.Sequential(\n",
        "            nn.Linear(1024, 28*28),\n",
        "            nn.Tanh()\n",
        "        )\n",
        "        \n",
        "    def forward(self, z):\n",
        "        x = self.hidden1(z)\n",
        "        x = self.hidden2(x)\n",
        "        x = self.hidden3(x)\n",
        "        out = self.out(x)\n",
        "        return out"
      ],
      "execution_count": 0,
      "outputs": []
    },
    {
      "cell_type": "code",
      "metadata": {
        "id": "gM6qe_tkfwds",
        "colab_type": "code",
        "colab": {}
      },
      "source": [
        "discriminator = Discriminator().to(device)\n",
        "generator = Generator().to(device)\n",
        "\n",
        "d_optimizer = torch.optim.Adam(discriminator.parameters(), lr=0.0002)\n",
        "g_optimizer = torch.optim.Adam(generator.parameters(), lr=0.0002)\n",
        "loss = nn.BCELoss(reduction='mean')"
      ],
      "execution_count": 0,
      "outputs": []
    },
    {
      "cell_type": "code",
      "metadata": {
        "id": "Kp2MY4y-ft3k",
        "colab_type": "code",
        "colab": {}
      },
      "source": [
        "def train_discriminator(optimizer, real_data, fake_data):\n",
        "    optimizer.zero_grad()\n",
        "    \n",
        "    # Real images\n",
        "    prediction_real = discriminator(real_data)\n",
        "    loss_real = loss(predictions_real, torch.ones_like(predictions_real))\n",
        "    loss.backward()\n",
        "    \n",
        "    # Fake images\n",
        "    predictions_fake = discriminator(fake_data)\n",
        "    loss_fake = loss(predictions_fake, torch.zeros_like(predictions_fake))\n",
        "    loss.backward()\n",
        "    \n",
        "    optimizer.step()\n",
        "    return (loss_real + loss_fake)/2.0"
      ],
      "execution_count": 0,
      "outputs": []
    },
    {
      "cell_type": "code",
      "metadata": {
        "id": "8KlKlCJ3BFXS",
        "colab_type": "code",
        "colab": {}
      },
      "source": [
        "def train_generator(optimizer, fake_data):\n",
        "    optimizer.zero_grad()\n",
        "    \n",
        "    predictions_fake = discriminator(fake_data)\n",
        "    loss_fake = loss(predictions_fake, torch.ones_like(predictions_fake))\n",
        "    loss.backward()\n",
        "    \n",
        "    optimizer.step()\n",
        "    return loss_fake"
      ],
      "execution_count": 0,
      "outputs": []
    },
    {
      "cell_type": "code",
      "metadata": {
        "id": "63W2pir2bjEn",
        "colab_type": "code",
        "colab": {}
      },
      "source": [
        "def images_to_vectors(images):\n",
        "    img.view(images.size(0), 28*28)\n",
        "    \n",
        "def vectors_to_images(vectors):\n",
        "    vectors.view(vectors.size(0), 1, 28, 28)\n",
        "    \n",
        "def noise(size):\n",
        "    z = Variable(torch.randn(size, 100)).to(device)"
      ],
      "execution_count": 0,
      "outputs": []
    },
    {
      "cell_type": "code",
      "metadata": {
        "id": "wxV4DOcHBkeS",
        "colab_type": "code",
        "colab": {}
      },
      "source": [
        "def load_mnist(batch_size)\n",
        "    # Load data\n",
        "    root = './data'\n",
        "    if not os.path.exists(root):\n",
        "        os.mkdir(root)\n",
        "\n",
        "    # normalizes values to interval [-1, 1]\n",
        "    trans = transforms.Compose([transforms.ToTensor(), transforms.Normalize((0.5,), (0.5,))])\n",
        "    train_set = dset.MNIST(root=root, train=True, transform=trans, download=True)\n",
        "    test_set = dset.MNIST(root=root, train=False, transform=trans, download=True)\n",
        "\n",
        "    train_loader = torch.utils.data.DataLoader(\n",
        "                     dataset=train_set,\n",
        "                     batch_size=batch_size,\n",
        "                     shuffle=True)\n",
        "    test_loader = torch.utils.data.DataLoader(\n",
        "                    dataset=test_set,\n",
        "                    batch_size=batch_size,\n",
        "                    shuffle=False)\n",
        "    return train_loader, test_loader"
      ],
      "execution_count": 0,
      "outputs": []
    },
    {
      "cell_type": "code",
      "metadata": {
        "id": "-kLm2P7NBZl6",
        "colab_type": "code",
        "colab": {}
      },
      "source": [
        "num_epochs = 100\n",
        "batch_size = 32\n",
        "\n",
        "test_noise = noise(16)\n",
        "\n",
        "train_loader, test_loader = load_mnist(batch_size)\n",
        "\n",
        "writer = SummaryWriter('logs/1')\n",
        "for epoch in range(epochs):\n",
        "    loss_d = 0\n",
        "    loss_g = 0\n",
        "    iterations = 0\n",
        "    iterations_gen = 0\n",
        "    for n_batch, batch in enumerate(train_loader):\n",
        "        fake_data = generator(noise(batch_size)).detach()\n",
        "        real_data = Variable(images_to_vectors(batch)).to(device)\n",
        "        loss_d += train_discriminator(d_optimizer, real_data, fake_data)\n",
        "        \n",
        "        fake_data = generator(noise(batch_size))\n",
        "        loss_g += train_generator(g_optimizer, fake_data)\n",
        "\n",
        "        if n_batch%100 == 0:\n",
        "          test_gen = vectors_to_images(generator(test_noise))\n",
        "          writer.add_image('test_gen', make_grid(test_gen), iterations_gen)\n",
        "          iterations_gen += 1\n",
        "          \n",
        "        iterations += 1     \n",
        "    writer.add_scalar('loss_d', loss_d/iterations, epoch)\n",
        "    writer.add_scalar('loss_g', loss_g/iterations, epoch)"
      ],
      "execution_count": 0,
      "outputs": []
    }
  ]
}